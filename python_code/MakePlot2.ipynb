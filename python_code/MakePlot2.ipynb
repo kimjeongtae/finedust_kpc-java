{
 "cells": [
  {
   "cell_type": "code",
   "execution_count": 5,
   "metadata": {},
   "outputs": [],
   "source": [
    "import datetime\n",
    "import numpy as np\n",
    "import pandas as pd\n",
    "import seaborn as sns\n",
    "import matplotlib.pyplot as plt\n",
    "%matplotlib inline\n",
    "import cx_Oracle\n",
    "from matplotlib import font_manager, rc\n",
    "font_name = font_manager.FontProperties(fname=\"c:/Windows/Fonts/malgun.ttf\").get_name()\n",
    "rc('font', family=font_name)"
   ]
  },
  {
   "cell_type": "code",
   "execution_count": 6,
   "metadata": {},
   "outputs": [],
   "source": [
    "def oneHourAgoFromNow():\n",
    "    now = datetime.datetime.now()\n",
    "    nowDatetime = now.strftime('%Y-%m-%d %H:%M')\n",
    "    later = nowDatetime[:11] + minusHour(nowDatetime[11:13]) + ':00'\n",
    "    return later\n",
    "\n",
    "def switch_time(ref):\n",
    "    if int(ref)%10==int(ref):\n",
    "        return oneHourAgoFromNow()[:11]+'0'+ref+':00'\n",
    "    else:\n",
    "        return oneHourAgoFromNow()[:11]+ref+':00'\n",
    "    \n",
    "def minusHour(hour):\n",
    "    number = int(hour)\n",
    "    if number==0:\n",
    "        return \"23\"\n",
    "    else:\n",
    "        number -= 1\n",
    "        if number%10==number:\n",
    "            return \"0\"+str(number)\n",
    "        else:\n",
    "            return str(number)"
   ]
  },
  {
   "cell_type": "code",
   "execution_count": 52,
   "metadata": {},
   "outputs": [],
   "source": [
    "def make_jr_plot():\n",
    "    reftime = int(oneHourAgoFromNow()[11:13])\n",
    "    hours = [i for i in range(reftime+4)]\n",
    "    conn = cx_Oracle.connect('SCOTT/TIGER@localhost:1521/XE')\n",
    "    db = conn.cursor()\n",
    "    mdata_list = []\n",
    "    cmdata_list = []\n",
    "    pred_list = []\n",
    "    for hour in range(reftime+1):\n",
    "        each_time = switch_time(str(hour))\n",
    "        db.execute('select * from realtimePm10 where 집계시간=:time', time = each_time)\n",
    "        for record in db:\n",
    "            mdata_list.append(record)\n",
    "        db.execute('select * from realtimePm25 where 집계시간=:time', time = each_time)\n",
    "        for record in db:\n",
    "            cmdata_list.append(record)\n",
    "    db.execute('select * from predictedData where reftime=:time and location in :loc', time = oneHourAgoFromNow(), loc='종로구')\n",
    "    for record in db:\n",
    "        pred_list.append(record)     \n",
    "    db.close()\n",
    "    conn.close()\n",
    "    \n",
    "    df = pd.DataFrame(mdata_list, columns=['집계시간','강남구','강동구','강북구','강서구','관악구','광진구','구로구','금천구','노원구','도봉구','동대문구','동작구','마포구','서대문구','서초구','성동구','성북구','송파구','양천구','영등포구','용산구','은평구','종로구','중구','중랑구'])\n",
    "    df = df.fillna(method='ffill')\n",
    "    df = df.fillna(method='bfill')\n",
    "    cdf = pd.DataFrame(cmdata_list, columns=['집계시간','강남구','강동구','강북구','강서구','관악구','광진구','구로구','금천구','노원구','도봉구','동대문구','동작구','마포구','서대문구','서초구','성동구','성북구','송파구','양천구','영등포구','용산구','은평구','종로구','중구','중랑구'])\n",
    "    cdf = cdf.fillna(method='ffill')\n",
    "    cdf = cdf.fillna(method='bfill')\n",
    "\n",
    "\n",
    "    mList = list(df['종로구'])\n",
    "    print(mList)\n",
    "    mList.extend([pred_list[0][2], pred_list[0][4], pred_list[0][6]])\n",
    "    cmList = list(cdf['종로구'])\n",
    "    cmList.extend([pred_list[0][3], pred_list[0][5], pred_list[0][7]])\n",
    "    \n",
    "    print(hours)\n",
    "    print(mList)\n",
    "    print(cmList)\n",
    "    \n",
    "    plt.style.use('fivethirtyeight')\n",
    "    fig, ax = plt.subplots()\n",
    "\n",
    "    ax.plot(hours, mList, label='미세먼지')\n",
    "    ax.plot(hours, cmList, label='초미세먼지')\n",
    "    ax.legend(loc=0)\n",
    "    plt.axvline(x=reftime, color='r', linestyle=':', linewidth=2)\n",
    "    \n",
    "    word = oneHourAgoFromNow().replace(\"-\", \"\")\n",
    "    word = word.replace(\" \", \"\")\n",
    "    word = word.replace(\":\", \"\")\n",
    "    title = 'C:\\\\0.bigData\\\\4.web\\\\Soup\\\\WebContent\\\\images' + word + '_.png'\n",
    "    plt.savefig(title)"
   ]
  },
  {
   "cell_type": "code",
   "execution_count": 53,
   "metadata": {
    "scrolled": true
   },
   "outputs": [
    {
     "name": "stdout",
     "output_type": "stream",
     "text": [
      "[24, 28, 28, 29, 28, 30, 30, 31]\n"
     ]
    },
    {
     "ename": "IndexError",
     "evalue": "list index out of range",
     "output_type": "error",
     "traceback": [
      "\u001b[1;31m---------------------------------------------------------------------------\u001b[0m",
      "\u001b[1;31mIndexError\u001b[0m                                Traceback (most recent call last)",
      "\u001b[1;32m<ipython-input-53-98221349977e>\u001b[0m in \u001b[0;36m<module>\u001b[1;34m()\u001b[0m\n\u001b[1;32m----> 1\u001b[1;33m \u001b[0mmake_jr_plot\u001b[0m\u001b[1;33m(\u001b[0m\u001b[1;33m)\u001b[0m\u001b[1;33m\u001b[0m\u001b[0m\n\u001b[0m",
      "\u001b[1;32m<ipython-input-52-76afc2e483f6>\u001b[0m in \u001b[0;36mmake_jr_plot\u001b[1;34m()\u001b[0m\n\u001b[0;32m     31\u001b[0m     \u001b[0mmList\u001b[0m \u001b[1;33m=\u001b[0m \u001b[0mlist\u001b[0m\u001b[1;33m(\u001b[0m\u001b[0mdf\u001b[0m\u001b[1;33m[\u001b[0m\u001b[1;34m'종로구'\u001b[0m\u001b[1;33m]\u001b[0m\u001b[1;33m)\u001b[0m\u001b[1;33m\u001b[0m\u001b[0m\n\u001b[0;32m     32\u001b[0m     \u001b[0mprint\u001b[0m\u001b[1;33m(\u001b[0m\u001b[0mmList\u001b[0m\u001b[1;33m)\u001b[0m\u001b[1;33m\u001b[0m\u001b[0m\n\u001b[1;32m---> 33\u001b[1;33m     \u001b[0mmList\u001b[0m\u001b[1;33m.\u001b[0m\u001b[0mextend\u001b[0m\u001b[1;33m(\u001b[0m\u001b[1;33m[\u001b[0m\u001b[0mpred_list\u001b[0m\u001b[1;33m[\u001b[0m\u001b[1;36m0\u001b[0m\u001b[1;33m]\u001b[0m\u001b[1;33m[\u001b[0m\u001b[1;36m2\u001b[0m\u001b[1;33m]\u001b[0m\u001b[1;33m,\u001b[0m \u001b[0mpred_list\u001b[0m\u001b[1;33m[\u001b[0m\u001b[1;36m0\u001b[0m\u001b[1;33m]\u001b[0m\u001b[1;33m[\u001b[0m\u001b[1;36m4\u001b[0m\u001b[1;33m]\u001b[0m\u001b[1;33m,\u001b[0m \u001b[0mpred_list\u001b[0m\u001b[1;33m[\u001b[0m\u001b[1;36m0\u001b[0m\u001b[1;33m]\u001b[0m\u001b[1;33m[\u001b[0m\u001b[1;36m6\u001b[0m\u001b[1;33m]\u001b[0m\u001b[1;33m]\u001b[0m\u001b[1;33m)\u001b[0m\u001b[1;33m\u001b[0m\u001b[0m\n\u001b[0m\u001b[0;32m     34\u001b[0m     \u001b[0mcmList\u001b[0m \u001b[1;33m=\u001b[0m \u001b[0mlist\u001b[0m\u001b[1;33m(\u001b[0m\u001b[0mcdf\u001b[0m\u001b[1;33m[\u001b[0m\u001b[1;34m'종로구'\u001b[0m\u001b[1;33m]\u001b[0m\u001b[1;33m)\u001b[0m\u001b[1;33m\u001b[0m\u001b[0m\n\u001b[0;32m     35\u001b[0m     \u001b[0mcmList\u001b[0m\u001b[1;33m.\u001b[0m\u001b[0mextend\u001b[0m\u001b[1;33m(\u001b[0m\u001b[1;33m[\u001b[0m\u001b[0mpred_list\u001b[0m\u001b[1;33m[\u001b[0m\u001b[1;36m0\u001b[0m\u001b[1;33m]\u001b[0m\u001b[1;33m[\u001b[0m\u001b[1;36m3\u001b[0m\u001b[1;33m]\u001b[0m\u001b[1;33m,\u001b[0m \u001b[0mpred_list\u001b[0m\u001b[1;33m[\u001b[0m\u001b[1;36m0\u001b[0m\u001b[1;33m]\u001b[0m\u001b[1;33m[\u001b[0m\u001b[1;36m5\u001b[0m\u001b[1;33m]\u001b[0m\u001b[1;33m,\u001b[0m \u001b[0mpred_list\u001b[0m\u001b[1;33m[\u001b[0m\u001b[1;36m0\u001b[0m\u001b[1;33m]\u001b[0m\u001b[1;33m[\u001b[0m\u001b[1;36m7\u001b[0m\u001b[1;33m]\u001b[0m\u001b[1;33m]\u001b[0m\u001b[1;33m)\u001b[0m\u001b[1;33m\u001b[0m\u001b[0m\n",
      "\u001b[1;31mIndexError\u001b[0m: list index out of range"
     ]
    }
   ],
   "source": [
    "make_jr_plot()"
   ]
  },
  {
   "cell_type": "code",
   "execution_count": 33,
   "metadata": {},
   "outputs": [
    {
     "data": {
      "text/plain": [
       "[0, 1, 2, 3, 4, 5, 6, 7, 8, 9, 10]"
      ]
     },
     "execution_count": 33,
     "metadata": {},
     "output_type": "execute_result"
    }
   ],
   "source": [
    "reftime = int(oneHourAgoFromNow()[11:13])\n",
    "list1 = [i for i in range(reftime+3)]\n",
    "list1"
   ]
  },
  {
   "cell_type": "code",
   "execution_count": null,
   "metadata": {},
   "outputs": [],
   "source": []
  }
 ],
 "metadata": {
  "kernelspec": {
   "display_name": "Python 3",
   "language": "python",
   "name": "python3"
  },
  "language_info": {
   "codemirror_mode": {
    "name": "ipython",
    "version": 3
   },
   "file_extension": ".py",
   "mimetype": "text/x-python",
   "name": "python",
   "nbconvert_exporter": "python",
   "pygments_lexer": "ipython3",
   "version": "3.6.4"
  }
 },
 "nbformat": 4,
 "nbformat_minor": 2
}
