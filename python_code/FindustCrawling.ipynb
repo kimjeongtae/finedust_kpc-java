{
 "cells": [
  {
   "cell_type": "code",
   "execution_count": null,
   "metadata": {
    "collapsed": true
   },
   "outputs": [],
   "source": [
    "from urllib import request\n",
    "from selenium import webdriver\n",
    "from selenium.webdriver.support.ui import Select\n",
    "import datetime\n",
    "import time\n",
    "import pandas as pd\n",
    "from math import ceil\n",
    "import os"
   ]
  },
  {
   "cell_type": "code",
   "execution_count": null,
   "metadata": {
    "collapsed": true
   },
   "outputs": [],
   "source": [
    "url = 'https://www.airkorea.or.kr/autoStatistic'\n",
    "browser = webdriver.Chrome('C:/0.bigData/0.sw/chromedriver.exe')\n",
    "browser.get(url)"
   ]
  },
  {
   "cell_type": "code",
   "execution_count": null,
   "metadata": {
    "collapsed": true
   },
   "outputs": [],
   "source": [
    "dosi_list = ['서울', '경기', '인천', '강원', '충남', '대전', '충북', '부산',\n",
    "             '울산', '대구', '경북', '경남', '전남', '광주', '전북', '제주']\n",
    "item_list = ['SO2', 'CO', 'O3', 'NO2', 'PM10', 'PM2.5']\n",
    "\n",
    "dosi_select = browser.find_element_by_id('district')\n",
    "item_select = browser.find_element_by_id('item_code')\n",
    "from_date = browser.find_element_by_id('from_date')\n",
    "to_date = browser.find_element_by_id('to_date')\n",
    "check_list = browser.find_element_by_css_selector('#ddcl-station_list > span > span')\n",
    "\n",
    "search = browser.find_element_by_css_selector('#cont_body > div.search_head.mb20 > div:nth-child(2) > input[type=\"image\"]:nth-child(7)')"
   ]
  },
  {
   "cell_type": "code",
   "execution_count": null,
   "metadata": {
    "collapsed": true
   },
   "outputs": [],
   "source": [
    "def week_of_month(date):\n",
    "    first_day_week = (date.replace(day=1).weekday() + 1) % 7\n",
    "    return (date.day + first_day_week - 1) // 7 + 1\n",
    "\n",
    "\n",
    "def generate_date(start, end):\n",
    "    date = start\n",
    "    while date <= end:\n",
    "        yield date\n",
    "        date += datetime.timedelta(1) \n",
    "\n",
    "        \n",
    "def click_date(date):\n",
    "    year = str(date.year)\n",
    "    month = str(date.month-1)\n",
    "    isoweekday = week_of_month(date)\n",
    "    weekday = ((date.weekday() + 1) % 7) + 1 \n",
    "    print(isoweekday, weekday)\n",
    "    from_date.click()\n",
    "    Select(browser.find_element_by_class_name('ui-datepicker-year')).select_by_value(year)\n",
    "    Select(browser.find_element_by_class_name('ui-datepicker-month')).select_by_value(month)\n",
    "    f = browser.find_element_by_css_selector(f'#ui-datepicker-div > table > tbody > tr:nth-child({isoweekday}) > td:nth-child({weekday}) > a').click()\n",
    "    to_date.click()\n",
    "    Select(browser.find_element_by_class_name('ui-datepicker-year')).select_by_value(year)\n",
    "    Select(browser.find_element_by_class_name('ui-datepicker-month')).select_by_value(month)\n",
    "    browser.find_element_by_css_selector(f'#ui-datepicker-div > table > tbody > tr:nth-child({isoweekday}) > td:nth-child({weekday}) > a').click()\n",
    "    \n",
    "\n",
    "def click_gu(click_index):\n",
    "    check_list = browser.find_element_by_css_selector('#ddcl-station_list > span > span')\n",
    "    check_list.click()\n",
    "    if click_index != 1:\n",
    "        pre_click_index = click_index - 1\n",
    "        pre_click = browser.find_element_by_id(f'ddcl-station_list-i{pre_click_index}')\n",
    "        pre_click.click()\n",
    "    click = browser.find_element_by_id(f'ddcl-station_list-i{click_index}')\n",
    "    click.click()\n",
    "    check_list.click()\n",
    "        \n",
    "def get_gu_list():\n",
    "    check_list = browser.find_element_by_css_selector('#ddcl-station_list > span > span')\n",
    "    check_list.click()\n",
    "    tag_list = browser.find_elements_by_class_name('ui-dropdownchecklist-text')\n",
    "    gu_list = [tag.text for tag in tag_list[2:]]\n",
    "    check_list.click()\n",
    "    return gu_list"
   ]
  },
  {
   "cell_type": "code",
   "execution_count": null,
   "metadata": {
    "collapsed": true
   },
   "outputs": [],
   "source": [
    "start = datetime.date(2017,1,25)\n",
    "end = datetime.date(2018,3,28)"
   ]
  },
  {
   "cell_type": "code",
   "execution_count": null,
   "metadata": {
    "scrolled": true
   },
   "outputs": [],
   "source": [
    "for dosi in dosi_list:\n",
    "    dosi_select.send_keys(dosi)\n",
    "    if not os.path.isdir(dosi):\n",
    "        os.mkdir(dosi)\n",
    "    for i, gu in enumerate(get_gu_list(), 1):\n",
    "        if not os.path.isdir(os.path.join(dosi, gu)):\n",
    "            os.mkdir(os.path.join(dosi, gu))\n",
    "        click_gu(i)\n",
    "        df = pd.DataFrame(columns=item_list)\n",
    "        for date in generate_date(start, end):\n",
    "            click_date(date)\n",
    "            for item in item_list:\n",
    "                item_select.send_keys(item)\n",
    "                search.click()\n",
    "                time.sleep(1)\n",
    "                a = browser.find_elements_by_css_selector('#tablefix1 > tbody > tr')\n",
    "                if len(a) < 100:\n",
    "                    continue\n",
    "                df[item] = [browser.find_elements_by_css_selector('#tablefix1 > tbody > tr:nth-child({}) > td:nth-child(2)'.format(i))[-1].text for i in range(3, 27)]\n",
    "                \n",
    "            df.to_csv('{}.csv'.format(os.path.join(dosi, gu, date.strftime('%Y%m%d'))))"
   ]
  }
 ],
 "metadata": {
  "kernelspec": {
   "display_name": "Python 3",
   "language": "python",
   "name": "python3"
  },
  "language_info": {
   "codemirror_mode": {
    "name": "ipython",
    "version": 3
   },
   "file_extension": ".py",
   "mimetype": "text/x-python",
   "name": "python",
   "nbconvert_exporter": "python",
   "pygments_lexer": "ipython3",
   "version": "3.6.3"
  }
 },
 "nbformat": 4,
 "nbformat_minor": 2
}
