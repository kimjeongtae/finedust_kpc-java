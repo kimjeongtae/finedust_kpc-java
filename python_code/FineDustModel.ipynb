{
 "cells": [
  {
   "cell_type": "code",
   "execution_count": 1,
   "metadata": {
    "collapsed": false
   },
   "outputs": [],
   "source": [
    "from collections import OrderedDict\n",
    "import numpy as np\n",
    "import pandas as pd\n",
    "import torch\n",
    "import datetime\n",
    "from torch import nn\n",
    "from torch.autograd import Variable\n",
    "from torch.utils.data import DataLoader, Dataset\n",
    "import visdom"
   ]
  },
  {
   "cell_type": "code",
   "execution_count": 2,
   "metadata": {
    "collapsed": true
   },
   "outputs": [],
   "source": [
    "def read_dust(path):\n",
    "    dust = pd.read_csv(path, engine='python', index_col=0, encoding='utf-8')\n",
    "    dust.index = [datetime.datetime.strptime(date, '%Y-%m-%d %H:%M:%S') for date in dust.index]\n",
    "    dust.sort_index(inplace=True)\n",
    "    return dust"
   ]
  },
  {
   "cell_type": "code",
   "execution_count": 3,
   "metadata": {
    "collapsed": true
   },
   "outputs": [],
   "source": [
    "class DustDataset():\n",
    "    \n",
    "    def __init__(self, fpath, mean=0, std=1, wind_direction=False):\n",
    "        dust = read_dust(fpath)\n",
    "        dust = (dust - mean) / std\n",
    "        if wind_direction:\n",
    "            dust = dust / 360\n",
    "        coordinates = self._get_coordinates()\n",
    "        self.size = dust.shape[0]\n",
    "        self.map = np.zeros((self.size, 6, 6))\n",
    "        \n",
    "        for i in range(self.size):\n",
    "            hour_data = dust.iloc[i]\n",
    "            for guname, (x, y) in coordinates.items():\n",
    "                self.map[i, x, y] = hour_data[guname]\n",
    "            \n",
    "    def __getitem__(self, index):\n",
    "        return self.map[index]\n",
    "    \n",
    "    def __len__(self):\n",
    "        return self.size\n",
    "        \n",
    "    def _get_coordinates(self):\n",
    "        return {'은평구':(0, 1), '강북구': (0, 3), '도봉구': (0, 4),\n",
    "                '서대문구': (1, 1), '종로구': (1, 2), '성북구': (1, 3), '노원구': (1, 4),\n",
    "                '강서구': (2, 0), '마포구': (2, 1), '중구': (2, 2), '동대문구': (2, 3), '중랑구': (2, 4),\n",
    "                '양천구': (3,0), '영등포구': (3, 1), '용산구': (3, 2), '성동구': (3, 3), '광진구': (3, 4), '강동구': (3, 5),\n",
    "                '구로구': (4, 0), '동작구': (4, 1), '서초구': (4, 2), '강남구': (4, 3), '송파구': (4, 4),\n",
    "                '금천구': (5, 0), '관악구': (5, 1)}"
   ]
  },
  {
   "cell_type": "code",
   "execution_count": 4,
   "metadata": {
    "collapsed": true
   },
   "outputs": [],
   "source": [
    "class OneHotEncoding():\n",
    "    \n",
    "    def __init__(self, factors):\n",
    "        self.factors = factors\n",
    "        self.lookup = {factor: onehot for factor, onehot in zip(factors, np.eye(len(factors)))}\n",
    "    \n",
    "    def encode(self, factor):\n",
    "        return self.lookup[factor]\n",
    "    \n",
    "    def decode(self, index):\n",
    "        return self.factors[index]\n",
    "    \n",
    "    def __call__(self, factor):\n",
    "        return self.lookup[factor]"
   ]
  },
  {
   "cell_type": "code",
   "execution_count": 5,
   "metadata": {
    "collapsed": true
   },
   "outputs": [],
   "source": [
    "class DustTimeDataset(Dataset):\n",
    "    \n",
    "    def __init__(self, dirpath, time_step):\n",
    "\n",
    "        CO = DustDataset(dirpath + '/CO.csv', 0.52937789296025439, 0.24188712719322902)\n",
    "        NO2 = DustDataset(dirpath + '/NO2.csv',0.031987616627473126, 0.016389330127089471)\n",
    "        O3 = DustDataset(dirpath + '/O3.csv', 0.023747050797629739, 0.018816394358766475)\n",
    "        SO2 = DustDataset(dirpath + '/SO2.csv', 0.0051391399997366815, 0.001860628414223503)\n",
    "        PM10 = DustDataset(dirpath + '/PM10.csv', 48.091213787881287, 37.271392635341527)\n",
    "        PM25 = DustDataset(dirpath + '/PM25.csv', 25.568989121078925, 15.9262427894759099)\n",
    "        \n",
    "        기온 = DustDataset(dirpath + '/기온.csv', 12.687561455578845, 10.657978816868261)\n",
    "        풍속 = DustDataset(dirpath + '/풍속.csv', 1.6514838451122911, 1.1074905606923966)\n",
    "        풍향 = DustDataset(dirpath + '/풍향.csv', wind_direction=True)\n",
    "        강수량 = DustDataset(dirpath + '/강수량.csv')\n",
    "        \n",
    "        PM10_y = read_dust(dirpath + '/PM25.csv')\n",
    "        PM10_y = PM10_y.values\n",
    "        \n",
    "        \n",
    "        data = list(zip(CO, NO2, O3, SO2, PM10, PM25, 기온, 풍향, 풍속, 강수량))\n",
    "        X = []\n",
    "        y = []\n",
    "        for i in range(len(CO) - time_step - 3):\n",
    "            X.append(data[i: (i+time_step)])\n",
    "            y.append(PM10_y[(i+time_step): (i+time_step+3)])\n",
    "        self.X = torch.Tensor(X)\n",
    "        self.y = torch.Tensor(y)\n",
    "        \n",
    "    def __getitem__(self, index):\n",
    "        return self.X[index], self.y[index]\n",
    "    \n",
    "    def __len__(self):\n",
    "        return len(self.X)\n",
    "        "
   ]
  },
  {
   "cell_type": "code",
   "execution_count": 47,
   "metadata": {
    "collapsed": false
   },
   "outputs": [],
   "source": [
    "class CRNN(nn.Module):\n",
    "    \n",
    "    def __init__(self, dropout_p):\n",
    "        super(CRNN, self).__init__()\n",
    "        self.conv1 = nn.Sequential(\n",
    "            nn.Conv2d(in_channels=10, out_channels=32, kernel_size=1),\n",
    "            nn.AvgPool2d(kernel_size=2, stride=1),\n",
    "            nn.BatchNorm2d(32),\n",
    "            nn.Dropout2d(dropout_p),\n",
    "            nn.ReLU(),\n",
    "        )\n",
    "        self.conv2 = nn.Sequential(\n",
    "            nn.Conv2d(in_channels=10, out_channels=32, kernel_size=2),\n",
    "            nn.BatchNorm2d(32),\n",
    "            nn.Dropout2d(dropout_p),\n",
    "            nn.ReLU(),\n",
    "        )\n",
    "        self.conv_fc = nn.Sequential(\n",
    "            nn.Linear(1600, 256),\n",
    "            nn.Dropout(dropout_p),\n",
    "            nn.BatchNorm1d(256)\n",
    "        )\n",
    "        self.encoder = nn.LSTM(input_size=256, hidden_size=512, num_layers=2, batch_first=True, dropout=dropout_p)\n",
    "        self.decoder = nn.LSTM(input_size=512, hidden_size=512, num_layers=2, batch_first=True, dropout=dropout_p)\n",
    "        self.decoder_fc =  nn.Sequential(\n",
    "            nn.BatchNorm1d(512),\n",
    "            nn.Linear(512, 256),\n",
    "            nn.BatchNorm1d(256),\n",
    "            nn.Dropout(dropout_p),\n",
    "            nn.Tanh(), \n",
    "            nn.Dropout(dropout_p),\n",
    "            nn.Linear(256, 25)\n",
    "        )\n",
    "        \n",
    "    def forward(self, x):\n",
    "        batch_size = x.size(0)\n",
    "        time_step = x.size(1)\n",
    "        \n",
    "        x = x.view(batch_size * time_step, 10, 6, 6)\n",
    "        conv1 = self.conv1(x)\n",
    "        conv2 = self.conv2(x)\n",
    "        x = torch.cat([conv1, conv2], dim=1)\n",
    "        x = x.view(batch_size * time_step, -1)\n",
    "        x = self.conv_fc(x)\n",
    "        x = x.view(batch_size, time_step, -1)\n",
    "        en_outputs, en_hidden  = self.encoder(x)\n",
    "        \n",
    "        outputs = []\n",
    "        dec_input = en_outputs[:, -1:, :]\n",
    "        dec_hidden = en_hidden\n",
    "        for _ in range(3):\n",
    "            dec_input, dec_hidden = self.decoder(dec_input, dec_hidden)\n",
    "            output = self.decoder_fc(dec_input[:, 0, :])\n",
    "            outputs.append(output.view(batch_size, 1, 25))\n",
    "            \n",
    "        return torch.cat(outputs, dim=1)\n"
   ]
  },
  {
   "cell_type": "code",
   "execution_count": 39,
   "metadata": {
    "collapsed": true
   },
   "outputs": [],
   "source": [
    "def train(model, loss_func, optimizer, x_val, y_val):\n",
    "    model.train()\n",
    "    x = Variable(x_val, requires_grad=False)\n",
    "    y = Variable(y_val, requires_grad=False)\n",
    "    optimizer.zero_grad()\n",
    "    output = model(x)\n",
    "    output = loss_func(output, y)\n",
    "    output.backward()\n",
    "    optimizer.step()\n",
    "\n",
    "    \n",
    "def predict(model, x_val):\n",
    "    model.eval()\n",
    "    x_val = Variable(x_val, requires_grad=False)\n",
    "    output = model(x_val)\n",
    "    return output\n",
    "\n",
    "\n",
    "def cal_loss(model, x_val, y_val):\n",
    "    y_val = Variable(y_val, requires_grad=False)\n",
    "    loss_func = nn.L1Loss()\n",
    "    pred = predict(model, x_val)\n",
    "    loss = loss_func(pred, y_val)\n",
    "    \n",
    "    return loss.data.numpy()"
   ]
  },
  {
   "cell_type": "code",
   "execution_count": 8,
   "metadata": {
    "collapsed": false
   },
   "outputs": [],
   "source": [
    "trainset = DustTimeDataset('cleaning/train', 6)\n",
    "testset = DustTimeDataset('cleaning/test', 6)\n",
    "train_x, train_y = trainset[:]\n",
    "test_x, test_y = testset[:]\n",
    "trainloader = DataLoader(trainset, batch_size=64, shuffle=True)"
   ]
  },
  {
   "cell_type": "code",
   "execution_count": 51,
   "metadata": {
    "collapsed": false
   },
   "outputs": [],
   "source": [
    "model= CRNN(0.3)"
   ]
  },
  {
   "cell_type": "code",
   "execution_count": 52,
   "metadata": {
    "collapsed": false
   },
   "outputs": [],
   "source": [
    "optimizer = torch.optim.Adam(model.parameters(), lr=0.001)\n",
    "loss_func = nn.L1Loss()\n",
    "vis = visdom.Visdom()"
   ]
  },
  {
   "cell_type": "code",
   "execution_count": 53,
   "metadata": {
    "collapsed": false,
    "scrolled": true
   },
   "outputs": [
    {
     "name": "stdout",
     "output_type": "stream",
     "text": [
      "0 --> [ 6.42845535] ---- [ 5.67367268]\n",
      "1 --> [ 6.71884155] ---- [ 5.67863607]\n",
      "2 --> [ 6.4099617] ---- [ 5.35420942]\n",
      "3 --> [ 6.06690168] ---- [ 5.38351345]\n",
      "4 --> [ 6.31955624] ---- [ 5.79871941]\n",
      "5 --> [ 5.95702696] ---- [ 5.1631794]\n",
      "6 --> [ 5.71670055] ---- [ 4.96498346]\n",
      "7 --> [ 5.90452766] ---- [ 4.99609661]\n",
      "8 --> [ 5.54376888] ---- [ 4.84924698]\n",
      "9 --> [ 5.79538393] ---- [ 4.9923377]\n",
      "10 --> [ 5.66962528] ---- [ 5.07766819]\n",
      "11 --> [ 5.70103741] ---- [ 5.19158602]\n",
      "12 --> [ 5.89184856] ---- [ 5.10682154]\n",
      "13 --> [ 5.69320059] ---- [ 4.92745018]\n",
      "14 --> [ 5.40298223] ---- [ 4.8810401]\n",
      "15 --> [ 5.73870039] ---- [ 5.0484004]\n",
      "16 --> [ 5.97947741] ---- [ 5.1197629]\n",
      "17 --> [ 5.68575668] ---- [ 4.90151262]\n",
      "18 --> [ 5.63725233] ---- [ 5.16423082]\n",
      "19 --> [ 5.68477869] ---- [ 4.99548244]\n",
      "20 --> [ 5.70133638] ---- [ 5.08656836]\n",
      "21 --> [ 5.18540716] ---- [ 4.71195412]\n",
      "22 --> [ 5.39765024] ---- [ 4.92133474]\n",
      "23 --> [ 5.28618097] ---- [ 4.93843031]\n",
      "24 --> [ 5.15306234] ---- [ 4.80236864]\n",
      "25 --> [ 5.44324541] ---- [ 4.86822033]\n",
      "26 --> [ 5.38216782] ---- [ 5.0672555]\n",
      "27 --> [ 5.47981644] ---- [ 5.23432827]\n",
      "28 --> [ 5.67323685] ---- [ 5.09958982]\n",
      "29 --> [ 6.00822687] ---- [ 5.82432747]\n",
      "30 --> [ 5.42737818] ---- [ 4.9468298]\n",
      "31 --> [ 5.28256273] ---- [ 4.91119432]\n",
      "32 --> [ 5.02321053] ---- [ 4.63501215]\n",
      "33 --> [ 5.04076195] ---- [ 4.64336348]\n",
      "34 --> [ 5.13986969] ---- [ 4.8937993]\n",
      "35 --> [ 4.86710215] ---- [ 4.58671427]\n",
      "36 --> [ 5.04514742] ---- [ 4.71887875]\n",
      "37 --> [ 5.41684294] ---- [ 5.03891468]\n",
      "38 --> [ 4.92364264] ---- [ 4.66742706]\n",
      "39 --> [ 5.11644077] ---- [ 4.76733112]\n",
      "40 --> [ 4.93463898] ---- [ 4.85843086]\n",
      "41 --> [ 5.0222578] ---- [ 4.79399204]\n",
      "42 --> [ 5.07436895] ---- [ 4.95793343]\n",
      "43 --> [ 4.73677206] ---- [ 4.70885515]\n",
      "44 --> [ 5.08674812] ---- [ 4.72825384]\n",
      "45 --> [ 4.95705318] ---- [ 4.91406155]\n",
      "46 --> [ 5.14935303] ---- [ 4.77593184]\n",
      "47 --> [ 4.9830575] ---- [ 4.98842478]\n",
      "48 --> [ 4.73790598] ---- [ 4.77225304]\n",
      "49 --> [ 4.79862165] ---- [ 4.53953791]\n",
      "50 --> [ 4.97259426] ---- [ 4.90594435]\n",
      "51 --> [ 4.65068245] ---- [ 4.67345381]\n",
      "52 --> [ 4.87562895] ---- [ 4.79611635]\n",
      "53 --> [ 4.62900829] ---- [ 4.67621899]\n",
      "54 --> [ 4.83101511] ---- [ 4.60893202]\n",
      "55 --> [ 4.63949633] ---- [ 4.64805222]\n",
      "56 --> [ 4.6916647] ---- [ 4.71014547]\n",
      "57 --> [ 4.63322306] ---- [ 4.55228662]\n",
      "58 --> [ 4.59251595] ---- [ 4.52378559]\n",
      "59 --> [ 4.90103149] ---- [ 5.16116905]\n",
      "60 --> [ 4.83066511] ---- [ 4.75505638]\n",
      "61 --> [ 5.12794638] ---- [ 5.01379633]\n",
      "62 --> [ 5.07518244] ---- [ 4.94843054]\n",
      "63 --> [ 4.89169931] ---- [ 4.87506104]\n",
      "64 --> [ 4.64744902] ---- [ 4.74704075]\n",
      "65 --> [ 4.37514782] ---- [ 4.55220461]\n",
      "66 --> [ 4.70924854] ---- [ 4.71467972]\n",
      "67 --> [ 4.35652876] ---- [ 4.57344723]\n",
      "68 --> [ 4.35697269] ---- [ 4.51322556]\n",
      "69 --> [ 4.63818979] ---- [ 4.79299212]\n",
      "70 --> [ 4.54048252] ---- [ 4.61198711]\n",
      "71 --> [ 4.42584085] ---- [ 4.682096]\n",
      "72 --> [ 4.37072229] ---- [ 4.54594803]\n",
      "73 --> [ 4.2436142] ---- [ 4.56935358]\n",
      "74 --> [ 4.68896055] ---- [ 4.90927649]\n",
      "75 --> [ 4.4348979] ---- [ 4.5906229]\n",
      "76 --> [ 4.32375288] ---- [ 4.63279343]\n",
      "77 --> [ 4.60984039] ---- [ 4.77801657]\n",
      "78 --> [ 4.40840483] ---- [ 4.59792757]\n",
      "79 --> [ 4.50593138] ---- [ 4.79486799]\n",
      "80 --> [ 4.35864878] ---- [ 4.67555237]\n",
      "81 --> [ 4.41700983] ---- [ 4.77199078]\n",
      "82 --> [ 4.58819771] ---- [ 4.79211807]\n",
      "83 --> [ 4.09762907] ---- [ 4.45334959]\n",
      "84 --> [ 4.40053654] ---- [ 4.83162069]\n",
      "85 --> [ 4.22929955] ---- [ 4.69087934]\n",
      "86 --> [ 4.42142344] ---- [ 4.65809107]\n",
      "87 --> [ 4.08499622] ---- [ 4.59582376]\n",
      "88 --> [ 4.55197763] ---- [ 4.70562315]\n",
      "89 --> [ 4.48036098] ---- [ 4.80560017]\n",
      "90 --> [ 4.56559658] ---- [ 4.72714233]\n",
      "91 --> [ 4.93787146] ---- [ 5.03614807]\n",
      "92 --> [ 4.25874424] ---- [ 4.56818581]\n",
      "93 --> [ 4.42447472] ---- [ 4.9294281]\n",
      "94 --> [ 4.69367123] ---- [ 4.81075096]\n",
      "95 --> [ 4.39402962] ---- [ 4.89050388]\n",
      "96 --> [ 4.55635452] ---- [ 5.11300611]\n",
      "97 --> [ 4.44336414] ---- [ 4.89804316]\n",
      "98 --> [ 4.30816221] ---- [ 4.71195078]\n",
      "99 --> [ 4.43544579] ---- [ 4.88699532]\n",
      "100 --> [ 4.35836172] ---- [ 4.79997873]\n",
      "101 --> [ 4.36781406] ---- [ 4.9343853]\n",
      "102 --> [ 4.45204878] ---- [ 4.73225403]\n",
      "103 --> [ 4.38359594] ---- [ 4.78999281]\n",
      "104 --> [ 4.08319283] ---- [ 4.78084517]\n",
      "105 --> [ 4.40271091] ---- [ 4.81461954]\n",
      "106 --> [ 4.03829432] ---- [ 4.75463963]\n",
      "107 --> [ 4.35969543] ---- [ 4.69955492]\n",
      "108 --> [ 4.28940535] ---- [ 4.82601166]\n",
      "109 --> [ 4.3128767] ---- [ 4.9049325]\n",
      "110 --> [ 4.31770372] ---- [ 5.01812887]\n",
      "111 --> [ 4.3075695] ---- [ 4.85199356]\n",
      "112 --> [ 3.94808841] ---- [ 4.67623615]\n",
      "113 --> [ 4.04039717] ---- [ 4.68890667]\n",
      "114 --> [ 4.16820765] ---- [ 4.80298233]\n",
      "115 --> [ 3.97063565] ---- [ 4.70695686]\n",
      "116 --> [ 4.16366911] ---- [ 4.92940235]\n",
      "117 --> [ 4.73584652] ---- [ 5.41740179]\n",
      "118 --> [ 3.94116306] ---- [ 4.75244522]\n",
      "119 --> [ 4.04070711] ---- [ 4.67674351]\n",
      "120 --> [ 3.97629476] ---- [ 4.73000288]\n",
      "121 --> [ 4.0707202] ---- [ 5.01768255]\n",
      "122 --> [ 4.15616846] ---- [ 4.69394064]\n",
      "123 --> [ 4.00334358] ---- [ 4.89654636]\n",
      "124 --> [ 4.18938875] ---- [ 4.83909655]\n",
      "125 --> [ 4.14027309] ---- [ 4.78199959]\n",
      "126 --> [ 4.20427227] ---- [ 4.88402605]\n",
      "127 --> [ 4.14201403] ---- [ 5.04346371]\n",
      "128 --> [ 4.14372921] ---- [ 4.94119406]\n",
      "129 --> [ 4.25637436] ---- [ 5.14765644]\n",
      "130 --> [ 3.96452951] ---- [ 4.83481693]\n",
      "131 --> [ 4.10379887] ---- [ 4.8544817]\n",
      "132 --> [ 3.8924253] ---- [ 4.81655121]\n",
      "133 --> [ 3.98310423] ---- [ 4.75303173]\n",
      "134 --> [ 4.00778103] ---- [ 4.99931574]\n",
      "135 --> [ 4.18594265] ---- [ 5.00344563]\n",
      "136 --> [ 4.20508099] ---- [ 5.10122204]\n",
      "137 --> [ 4.11460733] ---- [ 4.91895056]\n",
      "138 --> [ 4.08154345] ---- [ 4.97587967]\n",
      "139 --> [ 3.91993356] ---- [ 4.84294844]\n",
      "140 --> [ 4.25560093] ---- [ 5.0499444]\n",
      "141 --> [ 3.91639185] ---- [ 5.03119516]\n",
      "142 --> [ 3.91987705] ---- [ 4.82539463]\n",
      "143 --> [ 3.84491515] ---- [ 4.85504484]\n",
      "144 --> [ 3.95697021] ---- [ 4.84053707]\n",
      "145 --> [ 4.14875984] ---- [ 5.16074085]\n",
      "146 --> [ 4.17753839] ---- [ 5.07959843]\n",
      "147 --> [ 4.34679127] ---- [ 5.21803379]\n",
      "148 --> [ 4.12964201] ---- [ 5.16163015]\n",
      "149 --> [ 4.01468945] ---- [ 4.84884214]\n",
      "150 --> [ 3.93938994] ---- [ 4.84985638]\n",
      "151 --> [ 3.80772543] ---- [ 4.78040171]\n",
      "152 --> [ 4.0518899] ---- [ 5.1086607]\n",
      "153 --> [ 3.79779196] ---- [ 4.86554289]\n",
      "154 --> [ 3.87477779] ---- [ 4.89056635]\n",
      "155 --> [ 3.76013541] ---- [ 4.8075366]\n",
      "156 --> [ 3.78526711] ---- [ 4.89800167]\n",
      "157 --> [ 3.67374039] ---- [ 4.83508873]\n",
      "158 --> [ 4.12698698] ---- [ 4.99386311]\n",
      "159 --> [ 4.24512053] ---- [ 5.20710897]\n",
      "160 --> [ 3.91105247] ---- [ 5.00682831]\n",
      "161 --> [ 3.67665839] ---- [ 4.80094957]\n",
      "162 --> [ 3.78529406] ---- [ 4.87665224]\n",
      "163 --> [ 4.03348637] ---- [ 5.13633013]\n",
      "164 --> [ 3.90958261] ---- [ 5.09051371]\n",
      "165 --> [ 3.74610496] ---- [ 4.94520617]\n",
      "166 --> [ 4.01139116] ---- [ 5.11061621]\n",
      "167 --> [ 3.95924211] ---- [ 4.99484825]\n",
      "168 --> [ 3.52739072] ---- [ 4.86574078]\n",
      "169 --> [ 3.70872831] ---- [ 4.89591742]\n",
      "170 --> [ 3.47831893] ---- [ 4.96816254]\n",
      "171 --> [ 4.17537022] ---- [ 5.20046806]\n",
      "172 --> [ 4.13866854] ---- [ 5.16613293]\n",
      "173 --> [ 4.03580189] ---- [ 5.15795803]\n",
      "174 --> [ 3.95978546] ---- [ 4.93361902]\n",
      "175 --> [ 3.82578444] ---- [ 5.02258492]\n",
      "176 --> [ 3.63832664] ---- [ 5.0837903]\n",
      "177 --> [ 3.64668012] ---- [ 4.91327143]\n",
      "178 --> [ 3.78368688] ---- [ 4.9484067]\n",
      "179 --> [ 3.77772093] ---- [ 4.94174957]\n",
      "180 --> [ 3.71142292] ---- [ 4.95617723]\n",
      "181 --> [ 3.65766025] ---- [ 4.89971828]\n",
      "182 --> [ 3.76836824] ---- [ 4.94235659]\n",
      "183 --> [ 3.798455] ---- [ 4.98223734]\n",
      "184 --> [ 3.54364371] ---- [ 4.9019227]\n",
      "185 --> [ 3.81973314] ---- [ 4.78009844]\n",
      "186 --> [ 4.10130787] ---- [ 5.15695095]\n",
      "187 --> [ 3.72550488] ---- [ 5.0776]\n",
      "188 --> [ 3.80939198] ---- [ 4.99983692]\n",
      "189 --> [ 3.63444567] ---- [ 4.97675085]\n",
      "190 --> [ 3.7280767] ---- [ 5.02136421]\n",
      "191 --> [ 3.66752529] ---- [ 4.95276642]\n",
      "192 --> [ 3.59329414] ---- [ 4.88401699]\n",
      "193 --> [ 3.73118091] ---- [ 4.96366978]\n"
     ]
    },
    {
     "ename": "KeyboardInterrupt",
     "evalue": "",
     "output_type": "error",
     "traceback": [
      "\u001b[0;31m----------------------------------------------------------------------\u001b[0m",
      "\u001b[0;31mKeyboardInterrupt\u001b[0m                    Traceback (most recent call last)",
      "\u001b[0;32m<ipython-input-53-07f89046148f>\u001b[0m in \u001b[0;36m<module>\u001b[0;34m()\u001b[0m\n\u001b[1;32m      2\u001b[0m     \u001b[0mmodel\u001b[0m\u001b[0;34m.\u001b[0m\u001b[0mtrain\u001b[0m\u001b[0;34m(\u001b[0m\u001b[0;34m)\u001b[0m\u001b[0;34m\u001b[0m\u001b[0m\n\u001b[1;32m      3\u001b[0m     \u001b[0;32mfor\u001b[0m \u001b[0mi\u001b[0m\u001b[0;34m,\u001b[0m \u001b[0;34m(\u001b[0m\u001b[0mx_val\u001b[0m\u001b[0;34m,\u001b[0m \u001b[0my_val\u001b[0m\u001b[0;34m)\u001b[0m \u001b[0;32min\u001b[0m \u001b[0menumerate\u001b[0m\u001b[0;34m(\u001b[0m\u001b[0mtrainloader\u001b[0m\u001b[0;34m,\u001b[0m \u001b[0;36m19\u001b[0m\u001b[0;34m)\u001b[0m\u001b[0;34m:\u001b[0m\u001b[0;34m\u001b[0m\u001b[0m\n\u001b[0;32m----> 4\u001b[0;31m         \u001b[0mtrain\u001b[0m\u001b[0;34m(\u001b[0m\u001b[0mmodel\u001b[0m\u001b[0;34m,\u001b[0m \u001b[0mloss_func\u001b[0m\u001b[0;34m,\u001b[0m \u001b[0moptimizer\u001b[0m\u001b[0;34m,\u001b[0m \u001b[0mx_val\u001b[0m\u001b[0;34m,\u001b[0m \u001b[0my_val\u001b[0m\u001b[0;34m)\u001b[0m\u001b[0;34m\u001b[0m\u001b[0m\n\u001b[0m\u001b[1;32m      5\u001b[0m     \u001b[0mtrain_loss\u001b[0m \u001b[0;34m=\u001b[0m \u001b[0mcal_loss\u001b[0m\u001b[0;34m(\u001b[0m\u001b[0mmodel\u001b[0m\u001b[0;34m,\u001b[0m \u001b[0mtrain_x\u001b[0m\u001b[0;34m,\u001b[0m \u001b[0mtrain_y\u001b[0m\u001b[0;34m)\u001b[0m\u001b[0;34m\u001b[0m\u001b[0m\n\u001b[1;32m      6\u001b[0m     \u001b[0mtest_loss\u001b[0m \u001b[0;34m=\u001b[0m \u001b[0mcal_loss\u001b[0m\u001b[0;34m(\u001b[0m\u001b[0mmodel\u001b[0m\u001b[0;34m,\u001b[0m \u001b[0mtest_x\u001b[0m\u001b[0;34m,\u001b[0m \u001b[0mtest_y\u001b[0m\u001b[0;34m)\u001b[0m\u001b[0;34m\u001b[0m\u001b[0m\n",
      "\u001b[0;32m<ipython-input-39-5ed875d6e142>\u001b[0m in \u001b[0;36mtrain\u001b[0;34m(model, loss_func, optimizer, x_val, y_val)\u001b[0m\n\u001b[1;32m      7\u001b[0m     \u001b[0moutput\u001b[0m \u001b[0;34m=\u001b[0m \u001b[0mloss_func\u001b[0m\u001b[0;34m(\u001b[0m\u001b[0moutput\u001b[0m\u001b[0;34m,\u001b[0m \u001b[0my\u001b[0m\u001b[0;34m)\u001b[0m\u001b[0;34m\u001b[0m\u001b[0m\n\u001b[1;32m      8\u001b[0m     \u001b[0moutput\u001b[0m\u001b[0;34m.\u001b[0m\u001b[0mbackward\u001b[0m\u001b[0;34m(\u001b[0m\u001b[0;34m)\u001b[0m\u001b[0;34m\u001b[0m\u001b[0m\n\u001b[0;32m----> 9\u001b[0;31m     \u001b[0moptimizer\u001b[0m\u001b[0;34m.\u001b[0m\u001b[0mstep\u001b[0m\u001b[0;34m(\u001b[0m\u001b[0;34m)\u001b[0m\u001b[0;34m\u001b[0m\u001b[0m\n\u001b[0m\u001b[1;32m     10\u001b[0m \u001b[0;34m\u001b[0m\u001b[0m\n\u001b[1;32m     11\u001b[0m \u001b[0;34m\u001b[0m\u001b[0m\n",
      "\u001b[0;32m/home/kpc/anaconda3/lib/python3.5/site-packages/torch/optim/adam.py\u001b[0m in \u001b[0;36mstep\u001b[0;34m(self, closure)\u001b[0m\n\u001b[1;32m     76\u001b[0m                 \u001b[0mstep_size\u001b[0m \u001b[0;34m=\u001b[0m \u001b[0mgroup\u001b[0m\u001b[0;34m[\u001b[0m\u001b[0;34m'lr'\u001b[0m\u001b[0;34m]\u001b[0m \u001b[0;34m*\u001b[0m \u001b[0mmath\u001b[0m\u001b[0;34m.\u001b[0m\u001b[0msqrt\u001b[0m\u001b[0;34m(\u001b[0m\u001b[0mbias_correction2\u001b[0m\u001b[0;34m)\u001b[0m \u001b[0;34m/\u001b[0m \u001b[0mbias_correction1\u001b[0m\u001b[0;34m\u001b[0m\u001b[0m\n\u001b[1;32m     77\u001b[0m \u001b[0;34m\u001b[0m\u001b[0m\n\u001b[0;32m---> 78\u001b[0;31m                 \u001b[0mp\u001b[0m\u001b[0;34m.\u001b[0m\u001b[0mdata\u001b[0m\u001b[0;34m.\u001b[0m\u001b[0maddcdiv_\u001b[0m\u001b[0;34m(\u001b[0m\u001b[0;34m-\u001b[0m\u001b[0mstep_size\u001b[0m\u001b[0;34m,\u001b[0m \u001b[0mexp_avg\u001b[0m\u001b[0;34m,\u001b[0m \u001b[0mdenom\u001b[0m\u001b[0;34m)\u001b[0m\u001b[0;34m\u001b[0m\u001b[0m\n\u001b[0m\u001b[1;32m     79\u001b[0m \u001b[0;34m\u001b[0m\u001b[0m\n\u001b[1;32m     80\u001b[0m         \u001b[0;32mreturn\u001b[0m \u001b[0mloss\u001b[0m\u001b[0;34m\u001b[0m\u001b[0m\n",
      "\u001b[0;31mKeyboardInterrupt\u001b[0m: "
     ]
    }
   ],
   "source": [
    "for epoch in range(1000):\n",
    "    model.train()\n",
    "    for i, (x_val, y_val) in enumerate(trainloader, 19):\n",
    "        train(model, loss_func, optimizer, x_val, y_val)\n",
    "    train_loss = cal_loss(model, train_x, train_y)\n",
    "    test_loss = cal_loss(model, test_x, test_y)\n",
    "    print(epoch,'-->' , train_loss, '----', test_loss)\n",
    "    \n",
    "    if epoch == 1:\n",
    "        plot = vis.line(\n",
    "            Y=np.column_stack([train_loss, test_loss]), \n",
    "            X=np.column_stack([np.array([epoch]), np.array([epoch])]),\n",
    "            opts={'title': 'PM25 Loss', 'legend': ['Train', 'Test'], 'showlegend': True}\n",
    "        )\n",
    "    elif epoch > 1:\n",
    "        vis.line(\n",
    "            Y=np.column_stack([train_loss, test_loss]), \n",
    "            X=np.column_stack([np.array([epoch]), np.array([epoch])]),\n",
    "            win=plot, update='append',\n",
    "            opts={'title': 'PM25 Loss', 'legend': ['Train', 'Test'], 'showlegend': True}\n",
    "        )"
   ]
  },
  {
   "cell_type": "code",
   "execution_count": 54,
   "metadata": {
    "collapsed": false
   },
   "outputs": [
    {
     "data": {
      "text/plain": [
       "CRNN(\n",
       "  (conv1): Sequential(\n",
       "    (0): Conv2d(10, 32, kernel_size=(1, 1), stride=(1, 1))\n",
       "    (1): AvgPool2d(kernel_size=2, stride=1, padding=0, ceil_mode=False, count_include_pad=True)\n",
       "    (2): BatchNorm2d(32, eps=1e-05, momentum=0.1, affine=True)\n",
       "    (3): Dropout2d(p=0.3)\n",
       "    (4): ReLU()\n",
       "  )\n",
       "  (conv2): Sequential(\n",
       "    (0): Conv2d(10, 32, kernel_size=(2, 2), stride=(1, 1))\n",
       "    (1): BatchNorm2d(32, eps=1e-05, momentum=0.1, affine=True)\n",
       "    (2): Dropout2d(p=0.3)\n",
       "    (3): ReLU()\n",
       "  )\n",
       "  (conv_fc): Sequential(\n",
       "    (0): Linear(in_features=1600, out_features=256, bias=True)\n",
       "    (1): Dropout(p=0.3)\n",
       "    (2): BatchNorm1d(256, eps=1e-05, momentum=0.1, affine=True)\n",
       "  )\n",
       "  (encoder): LSTM(256, 512, num_layers=2, batch_first=True, dropout=0.3)\n",
       "  (decoder): LSTM(512, 512, num_layers=2, batch_first=True, dropout=0.3)\n",
       "  (decoder_fc): Sequential(\n",
       "    (0): BatchNorm1d(512, eps=1e-05, momentum=0.1, affine=True)\n",
       "    (1): Linear(in_features=512, out_features=256, bias=True)\n",
       "    (2): BatchNorm1d(256, eps=1e-05, momentum=0.1, affine=True)\n",
       "    (3): Dropout(p=0.3)\n",
       "    (4): Tanh()\n",
       "    (5): Dropout(p=0.3)\n",
       "    (6): Linear(in_features=256, out_features=25, bias=True)\n",
       "  )\n",
       ")"
      ]
     },
     "execution_count": 54,
     "metadata": {},
     "output_type": "execute_result"
    }
   ],
   "source": [
    "model.eval()"
   ]
  },
  {
   "cell_type": "code",
   "execution_count": null,
   "metadata": {
    "collapsed": true
   },
   "outputs": [],
   "source": [
    "torch.save(model.state_dict(), 'PM10.pth')"
   ]
  },
  {
   "cell_type": "code",
   "execution_count": 55,
   "metadata": {
    "collapsed": false
   },
   "outputs": [],
   "source": [
    "X1, y1 = testset[494:500]"
   ]
  },
  {
   "cell_type": "code",
   "execution_count": null,
   "metadata": {
    "collapsed": false
   },
   "outputs": [],
   "source": [
    "X1"
   ]
  },
  {
   "cell_type": "code",
   "execution_count": 56,
   "metadata": {
    "collapsed": false
   },
   "outputs": [],
   "source": [
    "X ,y = testset[500:501]"
   ]
  },
  {
   "cell_type": "code",
   "execution_count": 57,
   "metadata": {
    "collapsed": false
   },
   "outputs": [
    {
     "data": {
      "text/plain": [
       "Variable containing:\n",
       "(0 ,.,.) = \n",
       "\n",
       "Columns 0 to 7 \n",
       "   25.4287  24.8850  25.9930  26.6306  29.7057  27.1062  26.6059  25.7182\n",
       "  21.1275  21.8374  22.5278  24.7755  25.3776  22.8495  23.4946  21.1049\n",
       "  18.2484  19.9194  20.4425  23.7843  22.8845  20.6252  21.5660  19.8476\n",
       "\n",
       "Columns 8 to 15 \n",
       "   27.8664  25.5589  25.4126  24.7435  28.1241  24.5069  21.5266  24.0851\n",
       "  25.1824  22.7495  21.9669  21.4053  24.9207  22.1168  18.2256  21.1182\n",
       "  22.6855  20.0330  19.0478  19.5813  22.6365  19.2255  16.7404  18.9305\n",
       "\n",
       "Columns 16 to 23 \n",
       "   25.5820  22.7282  24.6752  27.6817  26.5141  24.1286  27.1976  25.7305\n",
       "  22.5074  20.3119  22.0734  24.0266  22.9113  22.1684  22.3638  23.0272\n",
       "  19.9850  19.2328  20.2393  21.0882  20.4650  20.1311  19.4243  20.7416\n",
       "\n",
       "Columns 24 to 24 \n",
       "   28.3497\n",
       "  24.6638\n",
       "  20.7866\n",
       "[torch.FloatTensor of size 1x3x25]"
      ]
     },
     "execution_count": 57,
     "metadata": {},
     "output_type": "execute_result"
    }
   ],
   "source": [
    "model(Variable(X))"
   ]
  },
  {
   "cell_type": "code",
   "execution_count": 58,
   "metadata": {
    "collapsed": false
   },
   "outputs": [
    {
     "data": {
      "text/plain": [
       "\n",
       "(0 ,.,.) = \n",
       "\n",
       "Columns 0 to 7 \n",
       "   29.0000  25.0000  25.0000  24.0000  29.0000  27.0000   8.0000  23.0000\n",
       "  27.0000  22.0000  26.0000  27.0000  25.0000  23.0000  11.0000  23.0000\n",
       "  17.0000  21.0000  25.0000  23.0000  31.0000  24.0000  10.0000  23.0000\n",
       "\n",
       "Columns 8 to 15 \n",
       "   29.0000  32.0000  24.0000  25.0000  26.0000  29.0000  24.0000  23.0000\n",
       "  29.0000  32.0000  21.0000  24.0000  26.0000  27.0000  17.0000  22.0000\n",
       "  28.0000  26.0000  23.0000  23.0000  25.0000  28.0000  22.0000  24.0000\n",
       "\n",
       "Columns 16 to 23 \n",
       "   14.8000  29.0000  26.0000  22.0000  25.0000  24.0000  26.0000  23.0000\n",
       "  14.7000  23.0000  25.0000  19.0000  26.0000  23.0000  24.0000  23.0000\n",
       "  14.6000  22.0000  25.0000  20.0000  23.0000  23.0000  23.0000  21.0000\n",
       "\n",
       "Columns 24 to 24 \n",
       "   32.0000\n",
       "  34.0000\n",
       "  36.0000\n",
       "[torch.FloatTensor of size 1x3x25]"
      ]
     },
     "execution_count": 58,
     "metadata": {},
     "output_type": "execute_result"
    }
   ],
   "source": [
    "y"
   ]
  },
  {
   "cell_type": "code",
   "execution_count": null,
   "metadata": {
    "collapsed": true
   },
   "outputs": [],
   "source": []
  }
 ],
 "metadata": {
  "anaconda-cloud": {},
  "kernelspec": {
   "display_name": "Python [default]",
   "language": "python",
   "name": "python3"
  },
  "language_info": {
   "codemirror_mode": {
    "name": "ipython",
    "version": 3
   },
   "file_extension": ".py",
   "mimetype": "text/x-python",
   "name": "python",
   "nbconvert_exporter": "python",
   "pygments_lexer": "ipython3",
   "version": "3.5.2"
  }
 },
 "nbformat": 4,
 "nbformat_minor": 2
}
